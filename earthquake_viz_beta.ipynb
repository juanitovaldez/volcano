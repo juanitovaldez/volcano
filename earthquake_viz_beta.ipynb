{
 "cells": [
  {
   "cell_type": "code",
   "execution_count": null,
   "metadata": {
    "ExecuteTime": {
     "end_time": "2019-10-22T20:49:04.833097Z",
     "start_time": "2019-10-22T20:48:58.620619Z"
    }
   },
   "outputs": [],
   "source": [
    "import pandas_profiling\n",
    "import datetime\n",
    "from datetime import timedelta\n",
    "import time\n",
    "import pandas as pd\n",
    "import matplotlib as plt\n",
    "import seaborn as sns\n",
    "import json\n",
    "import numpy as np\n",
    "from scipy import stats"
   ]
  },
  {
   "cell_type": "code",
   "execution_count": null,
   "metadata": {
    "ExecuteTime": {
     "end_time": "2019-10-22T20:49:06.617208Z",
     "start_time": "2019-10-22T20:49:04.836073Z"
    }
   },
   "outputs": [],
   "source": [
    "## Import files:\n",
    "\n",
    "earthquake_df = pd.read_csv('usgs_mag5_1990_2019.csv')\n",
    "aqs_df = pd.read_csv('final_aq.csv')"
   ]
  },
  {
   "cell_type": "code",
   "execution_count": null,
   "metadata": {
    "ExecuteTime": {
     "end_time": "2019-10-22T20:49:07.105770Z",
     "start_time": "2019-10-22T20:49:06.619191Z"
    }
   },
   "outputs": [],
   "source": [
    "#We have a large enoug N to drop the NA measurements \n",
    "aqs_df.dropna()"
   ]
  },
  {
   "cell_type": "code",
   "execution_count": null,
   "metadata": {
    "ExecuteTime": {
     "end_time": "2019-10-22T20:51:05.134056Z",
     "start_time": "2019-10-22T20:49:07.107751Z"
    }
   },
   "outputs": [],
   "source": [
    "sns.pairplot(data=aqs_df, hue = 'Parameter', plot_kws={'s':3})"
   ]
  },
  {
   "cell_type": "code",
   "execution_count": null,
   "metadata": {
    "ExecuteTime": {
     "end_time": "2019-10-22T20:51:05.144994Z",
     "start_time": "2019-10-22T20:51:05.135958Z"
    },
    "scrolled": true
   },
   "outputs": [],
   "source": [
    "# I need to figure out a way to calculate the day distance to the even from each measurement:\n",
    "# event_date - measurement date = time_delta could be a time delta or an integer but just day. 15 bins [-7,-6,...,-1,0,1,...6,7]\n",
    "#earthquake_df = earthquake_df.drop(index='Unnamed: 0')\n",
    "aqs_df.keys()"
   ]
  },
  {
   "cell_type": "code",
   "execution_count": null,
   "metadata": {
    "ExecuteTime": {
     "end_time": "2019-10-22T20:51:06.630404Z",
     "start_time": "2019-10-22T20:51:05.147366Z"
    },
    "scrolled": false
   },
   "outputs": [],
   "source": [
    "event_date = earthquake_df[['Identifier', 'Date']]\n",
    "aqs_df = aqs_df.rename(columns={'q_ueid':'Identifier'})\n",
    "master_record = aqs_df.merge(earthquake_df, on='Identifier', suffixes=('_measure', '_event'))\n",
    "\n",
    "# raw_data['Mycol'] =  pd.to_datetime(raw_data['Mycol'], format='%d%b%Y:%H:%M:%S.%f\n",
    "master_record['Date_measure'] = pd.to_datetime(master_record['Date_measure'])\n",
    "master_record['Date_event'] = pd.to_datetime(master_record['Date_event'], format='%Y%m%d')\n",
    "master_record['time_bins'] =(master_record['Date_measure']-master_record['Date_event']).dt.days\n",
    "clean_record = master_record[['Parameter','Measurement', 'Unit', 'Station', 'County', 'Location', 'GCS', 'Depth', 'Magnitude', 'Date_measure', 'Date_event', 'time_bins']]\n",
    "pollutant_list = clean_record['Parameter'].unique().tolist()\n",
    "pollutant_list"
   ]
  },
  {
   "cell_type": "code",
   "execution_count": null,
   "metadata": {
    "ExecuteTime": {
     "end_time": "2019-10-22T20:51:40.607450Z",
     "start_time": "2019-10-22T20:51:06.632884Z"
    }
   },
   "outputs": [],
   "source": [
    "clean_record.to_csv('final_epa_usgs_df.csv')"
   ]
  },
  {
   "cell_type": "code",
   "execution_count": null,
   "metadata": {
    "ExecuteTime": {
     "end_time": "2019-10-22T20:52:20.134140Z",
     "start_time": "2019-10-22T20:51:40.610918Z"
    }
   },
   "outputs": [],
   "source": [
    "#Iterate over this to make graphs for each pollutant:\n",
    "sns.set(rc={'figure.figsize':(11.7,8.27)})\n",
    "ax = sns.stripplot(x=clean_record['time_bins'], y = clean_record['Measurement'], hue=clean_record['Station'], data = clean_record[clean_record['Parameter'] == 'PM2.5 - Local Conditions'], marker='.', s=1, )\n",
    "ax.set(ylim=(0, 200))\n",
    "ax.legend().set_visible(False)\n",
    "\n"
   ]
  },
  {
   "cell_type": "code",
   "execution_count": null,
   "metadata": {
    "ExecuteTime": {
     "end_time": "2019-10-22T20:52:28.987705Z",
     "start_time": "2019-10-22T20:52:20.136357Z"
    },
    "scrolled": true
   },
   "outputs": [],
   "source": [
    "#g = sns.FacetGrid(clean_record, col='Parameter', hue='Unit', col_wrap=5)\n",
    "sns.set(rc={'figure.figsize':(11.7,8.27)})\n",
    "#Iterate over this to make graphs for each pollutant:\n",
    "ax = sns.violinplot(x=clean_record['time_bins'], y = clean_record['Measurement'], data = clean_record[clean_record['Parameter'] == 'PM2.5 - Local Conditions'], marker='.', s=1, aspect=1.75)\n",
    "ax.set(ylim=(-5, 20))\n",
    "ax"
   ]
  },
  {
   "cell_type": "code",
   "execution_count": null,
   "metadata": {
    "ExecuteTime": {
     "end_time": "2019-10-22T20:53:09.278741Z",
     "start_time": "2019-10-22T20:52:28.990187Z"
    }
   },
   "outputs": [],
   "source": [
    "clean_record.to_csv('final_epa_usgs_df.csv')"
   ]
  },
  {
   "cell_type": "code",
   "execution_count": null,
   "metadata": {
    "ExecuteTime": {
     "end_time": "2019-10-22T20:53:09.489569Z",
     "start_time": "2019-10-22T20:53:09.281717Z"
    }
   },
   "outputs": [],
   "source": [
    "clean_record = clean_record[clean_record['Parameter']=='PM2.5 - Local Conditions']"
   ]
  },
  {
   "cell_type": "code",
   "execution_count": null,
   "metadata": {
    "ExecuteTime": {
     "end_time": "2019-10-22T20:53:10.444518Z",
     "start_time": "2019-10-22T20:53:09.491526Z"
    }
   },
   "outputs": [],
   "source": [
    "#List of data by days:\n",
    "clean_record = clean_record.dropna()\n",
    "bins = clean_record['time_bins'].unique().tolist()\n",
    "bin_breakdown = [clean_record[clean_record['time_bins']==x] for x in bins]\n",
    "len(bin_breakdown)\n",
    "index = 0\n",
    "ks_stat_dic = {}\n",
    "# This calculates a pairwise kolmogorov smirnov test matrix for use in a heat map later\n",
    "for dep_var in bins:\n",
    "    for ind_var in bins:\n",
    "        cutoff= min(len(bin_breakdown[dep_var]['Measurement']),len(bin_breakdown[ind_var]['Measurement']))\n",
    "        ks_stat, tt_pv = stats.ks_2samp(bin_breakdown[dep_var][\"Measurement\"].sample(n=cutoff), bin_breakdown[ind_var][\"Measurement\"].sample(n=cutoff))\n",
    "        ks_stat_dic[str(index)] =  {'Bin_1': dep_var,\n",
    "                               'Bin_2': ind_var, \n",
    "                               'KS Stat': ks_stat,\n",
    "                               'TT p-val':tt_pv}\n",
    "        #status = f'{ind_var} vs: {dep_var}: KS Stat: {np.round(ks_stat, decimals=6)}, Two Taile p-value: {np.round(tt_pv, decimals=5)}'\n",
    "        index +=1\n",
    "        #print(index)\n",
    "#ks_stat_dic"
   ]
  },
  {
   "cell_type": "code",
   "execution_count": null,
   "metadata": {
    "ExecuteTime": {
     "end_time": "2019-10-22T20:53:10.536198Z",
     "start_time": "2019-10-22T20:53:10.447316Z"
    },
    "scrolled": true
   },
   "outputs": [],
   "source": [
    "## Calculating the Kolmogorov Smirnov Matrix\n",
    "ks_matrix = pd.DataFrame.from_dict(ks_stat_dic)\n",
    "ks_matrix = ks_matrix.T\n",
    "ks_matrix = ks_matrix.pivot('Bin_1', 'Bin_2', 'TT p-val')\n",
    "ks_matrix\n",
    "\n"
   ]
  },
  {
   "cell_type": "code",
   "execution_count": null,
   "metadata": {
    "ExecuteTime": {
     "end_time": "2019-10-22T20:53:12.503074Z",
     "start_time": "2019-10-22T20:53:10.540068Z"
    }
   },
   "outputs": [],
   "source": [
    "r = sns.heatmap(data=ks_matrix, cmap='coolwarm', square=True, robust=True, annot=True, fmt='.3f', vmin=0, vmax=0.05)\n",
    "r.set_ylim(0,15)\n",
    "r.set_xlim(0,15)"
   ]
  },
  {
   "cell_type": "code",
   "execution_count": null,
   "metadata": {},
   "outputs": [],
   "source": []
  }
 ],
 "metadata": {
  "file_extension": ".py",
  "kernelspec": {
   "display_name": "Python 3",
   "language": "python",
   "name": "python3"
  },
  "language_info": {
   "codemirror_mode": {
    "name": "ipython",
    "version": 3
   },
   "file_extension": ".py",
   "mimetype": "text/x-python",
   "name": "python",
   "nbconvert_exporter": "python",
   "pygments_lexer": "ipython3",
   "version": "3.7.3"
  },
  "mimetype": "text/x-python",
  "name": "python",
  "npconvert_exporter": "python",
  "pygments_lexer": "ipython3",
  "version": 3
 },
 "nbformat": 4,
 "nbformat_minor": 2
}
